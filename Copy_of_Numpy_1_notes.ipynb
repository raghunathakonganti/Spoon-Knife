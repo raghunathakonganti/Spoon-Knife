{
  "nbformat": 4,
  "nbformat_minor": 0,
  "metadata": {
    "colab": {
      "provenance": [],
      "include_colab_link": true
    },
    "kernelspec": {
      "name": "python3",
      "display_name": "Python 3"
    },
    "language_info": {
      "name": "python"
    }
  },
  "cells": [
    {
      "cell_type": "markdown",
      "metadata": {
        "id": "view-in-github",
        "colab_type": "text"
      },
      "source": [
        "<a href=\"https://colab.research.google.com/github/raghunathakonganti/Spoon-Knife/blob/main/Copy_of_Numpy_1_notes.ipynb\" target=\"_parent\"><img src=\"https://colab.research.google.com/assets/colab-badge.svg\" alt=\"Open In Colab\"/></a>"
      ]
    },
    {
      "cell_type": "markdown",
      "source": [
        "# Numpy 1"
      ],
      "metadata": {
        "id": "_DCL_a8H4VQ6"
      }
    },
    {
      "cell_type": "markdown",
      "source": [
        "---"
      ],
      "metadata": {
        "id": "qjpgJkJbX3VH"
      }
    },
    {
      "cell_type": "markdown",
      "source": [
        "## **Content**\n",
        "\n",
        "- Introduction to DAV\n",
        "- Python Lists vs Numpy Array\n",
        "  - Importing Numpy\n",
        "  - Why use Numpy?\n",
        "- Dimension & Shape\n",
        "- Type Conversion in Numpy Arrays\n",
        "- Indexing & Slicing\n",
        "- NPS use case\n"
      ],
      "metadata": {
        "id": "1tgAFVm7HaN5"
      }
    },
    {
      "cell_type": "markdown",
      "source": [
        "---"
      ],
      "metadata": {
        "id": "pQMQqvTuX4L2"
      }
    },
    {
      "cell_type": "markdown",
      "source": [
        "## **Introduction to DAV (Data Analysis and Visualization) Module**\n",
        "\n",
        "With this lecture, we're starting the DAV module.\n",
        "\n",
        "It will contain 3 sections -\n",
        "\n",
        "1. DAV-1: Python Libraries\n",
        " - Numpy\n",
        " - Pandas\n",
        " - Matplotlib & Seaborn\n",
        "2. DAV-2: Probability Statistics\n",
        "3. DAV-3: Hypothesis Testing"
      ],
      "metadata": {
        "id": "JxxBP5IaHcEl"
      }
    },
    {
      "cell_type": "markdown",
      "source": [
        "---"
      ],
      "metadata": {
        "id": "5nAEeLUfZ7pN"
      }
    },
    {
      "cell_type": "markdown",
      "source": [
        "## **Python Lists vs Numpy Arrays**"
      ],
      "metadata": {
        "id": "Bz6rAZHmYKmh"
      }
    },
    {
      "cell_type": "markdown",
      "source": [
        "### **Homogeneity of data**\n",
        "\n",
        "So far, we've been working with Python lists, that can have **heterogenous data**."
      ],
      "metadata": {
        "id": "FMpGyvueZ_Z4"
      }
    },
    {
      "cell_type": "code",
      "execution_count": null,
      "metadata": {
        "colab": {
          "base_uri": "https://localhost:8080/"
        },
        "id": "1X1EBh-1GYny",
        "outputId": "df0b6da4-161c-43f2-f561-b7c842668233"
      },
      "outputs": [
        {
          "output_type": "execute_result",
          "data": {
            "text/plain": [
              "[1, 2, 3, 'Michael', True]"
            ]
          },
          "metadata": {},
          "execution_count": 1
        }
      ],
      "source": [
        "a = [1, 2, 3, \"Michael\", True]\n",
        "a"
      ]
    },
    {
      "cell_type": "markdown",
      "source": [
        "Because of this hetergenity, in Python lists, the data elements are not stored together in the memory (RAM).\n",
        "\n",
        "- Each element is stored in a different location.\n",
        "- Only the address of each of the element will be stored together.\n",
        "- So, a list is actually just referencing to these different locations, in order to access the actual element.\n",
        "\n",
        "\\\n",
        "On the other hand, Numpy only stores **homogenous data**, i.e. a numpy array cannot contain mixed data types.\n",
        "\n",
        "It will either\n",
        "- ONLY contain integers\n",
        "- ONLY contain floats\n",
        "- ONLY contain characters\n",
        "\n",
        "... and so on.\n",
        "\n",
        "Because of this, we can now store these different data items together, as they are of the same type.\n",
        "\n",
        "<img src=\"https://d2beiqkhq929f0.cloudfront.net/public_assets/assets/000/063/995/original/download.png?1706870327\" width=700 height=175>"
      ],
      "metadata": {
        "id": "AwuAqcJ-aP4X"
      }
    },
    {
      "cell_type": "markdown",
      "source": [
        "### **Speed**\n",
        "\n",
        "Programming languages can also be slow or fast.\n",
        "\n",
        "In fact,\n",
        "- Java is a decently fast language.\n",
        "- Python is a slow language.\n",
        "- C, one of the earliest available languages, is super fast.\n",
        "\n",
        "This is because C has concepts like memory allocation, pointers, etc.\n",
        "\n",
        "#### **How is this possible?**\n",
        "\n",
        "With Numpy, though we will be writing our code using Python, but behind the scene, all the code is written in the **C programming language**, to make it faster.\n",
        "\n",
        "Because of this, a Numpy Array will be significantly faster than a Python List in performing the same operation.\n",
        "\n",
        "This is very important to us, because in data science, we deal with huge amount of data.\n"
      ],
      "metadata": {
        "id": "ofsHYKHJhY10"
      }
    },
    {
      "cell_type": "markdown",
      "source": [
        "### **Properties**\n",
        "\n",
        "- **In-built Functions**\n",
        " - For a Python list `a`, we had in-built functions like `.sum(a)`, etc.\n",
        " - For NumPy arrays also, we will have such in-built functions.\n",
        "\n",
        "- **Slicing**\n",
        " - Recall that we were able to perform list slicing.\n",
        " - All of that is still applicable here.\n"
      ],
      "metadata": {
        "id": "9AagO_eolXUc"
      }
    },
    {
      "cell_type": "markdown",
      "source": [
        "---"
      ],
      "metadata": {
        "id": "ICybi0vlbWPJ"
      }
    },
    {
      "cell_type": "markdown",
      "source": [
        "## **Importing Numpy**"
      ],
      "metadata": {
        "id": "UY6WIVY8n6X4"
      }
    },
    {
      "cell_type": "markdown",
      "source": [
        "Recall how we used to import a module/library in Python.\n",
        "\n",
        "* In order to use Python Lists, we do not need to import anything extra.\n",
        "* However to use Numpy Arrays, we need to import it into our environment, as it is a Library.\n",
        "\n",
        "Generally, we do so while using the alias **`np`**."
      ],
      "metadata": {
        "id": "ll9piOiLpDNp"
      }
    },
    {
      "cell_type": "code",
      "source": [
        "import numpy as np"
      ],
      "metadata": {
        "id": "W4fH6TVKrOXv"
      },
      "execution_count": null,
      "outputs": []
    },
    {
      "cell_type": "markdown",
      "source": [
        "**Note:**\n",
        "- In this terminal, we will already have numpy installed as we are working on Google Colab\n",
        "- However, when working on an evironment that does not have it installed, you'll have to install it the first time working.\n",
        "- This can be done with the command: `!pip install numpy`"
      ],
      "metadata": {
        "id": "N-HSp-TVsRK8"
      }
    },
    {
      "cell_type": "markdown",
      "source": [
        "---"
      ],
      "metadata": {
        "id": "8qfbEBpacK_w"
      }
    },
    {
      "cell_type": "markdown",
      "source": [
        "## **Why use Numpy? - Time Comparison**"
      ],
      "metadata": {
        "id": "1IZeIYOD0uui"
      }
    },
    {
      "cell_type": "markdown",
      "metadata": {
        "id": "EfvjnGH1I1fs"
      },
      "source": [
        "Suppose you are given a list of numbers. You have to find the square of each number and store it in the original list.\n"
      ]
    },
    {
      "cell_type": "code",
      "execution_count": null,
      "metadata": {
        "id": "y0PhpCEiI1fs"
      },
      "outputs": [],
      "source": [
        "a = [1,2,3,4,5]"
      ]
    },
    {
      "cell_type": "code",
      "source": [
        "type(a)"
      ],
      "metadata": {
        "colab": {
          "base_uri": "https://localhost:8080/"
        },
        "id": "9uHowdRoe4w1",
        "outputId": "7ed7d792-ab48-4c7c-b149-068c77ddff84"
      },
      "execution_count": null,
      "outputs": [
        {
          "output_type": "execute_result",
          "data": {
            "text/plain": [
              "list"
            ]
          },
          "metadata": {},
          "execution_count": 4
        }
      ]
    },
    {
      "cell_type": "markdown",
      "metadata": {
        "id": "2_QU8_EFI1fu"
      },
      "source": [
        "The basic approach here would be to iterate over the list and square each element."
      ]
    },
    {
      "cell_type": "code",
      "execution_count": null,
      "metadata": {
        "id": "lnikUAz8I1fv",
        "outputId": "7ae0a52a-8873-45e9-ddb4-6c1635b506f0",
        "colab": {
          "base_uri": "https://localhost:8080/"
        }
      },
      "outputs": [
        {
          "output_type": "stream",
          "name": "stdout",
          "text": [
            "[1, 4, 9, 16, 25]\n"
          ]
        }
      ],
      "source": [
        "res = [i**2 for i in a]\n",
        "print(res)"
      ]
    },
    {
      "cell_type": "markdown",
      "metadata": {
        "id": "a183ce14"
      },
      "source": [
        "Let's try the same operation with Numpy."
      ]
    },
    {
      "cell_type": "markdown",
      "source": [
        "To do so, first of all we need to define the Numpy array.\n",
        "\n",
        "We can convert any list `a` into a Numpy array using the `array()` function."
      ],
      "metadata": {
        "id": "OSIojRR11f48"
      }
    },
    {
      "cell_type": "code",
      "execution_count": null,
      "metadata": {
        "id": "f4b4b583",
        "outputId": "f9132b86-cd97-4902-c744-e8fb55c00c11",
        "colab": {
          "base_uri": "https://localhost:8080/"
        }
      },
      "outputs": [
        {
          "output_type": "execute_result",
          "data": {
            "text/plain": [
              "array([1, 2, 3, 4, 5])"
            ]
          },
          "metadata": {},
          "execution_count": 6
        }
      ],
      "source": [
        "b = np.array(a)\n",
        "b"
      ]
    },
    {
      "cell_type": "code",
      "source": [
        "type(b)"
      ],
      "metadata": {
        "colab": {
          "base_uri": "https://localhost:8080/"
        },
        "id": "YFGZM1AT2D_i",
        "outputId": "d413f2db-1daf-4c02-afb0-08e9e066b4c3"
      },
      "execution_count": null,
      "outputs": [
        {
          "output_type": "execute_result",
          "data": {
            "text/plain": [
              "numpy.ndarray"
            ]
          },
          "metadata": {},
          "execution_count": 7
        }
      ]
    },
    {
      "cell_type": "markdown",
      "source": [
        "- `nd` in `numpy.ndarray` stands for **n-dimensional**"
      ],
      "metadata": {
        "id": "yWWrinC72G-A"
      }
    },
    {
      "cell_type": "markdown",
      "source": [
        "Now, how can we get the square of each element in the same Numpy array?"
      ],
      "metadata": {
        "id": "dyol-OdV2hcL"
      }
    },
    {
      "cell_type": "code",
      "source": [
        "b**2"
      ],
      "metadata": {
        "colab": {
          "base_uri": "https://localhost:8080/"
        },
        "id": "vXoEGeOm1ovz",
        "outputId": "ba713ff8-342d-4dcd-ebe8-5cb8aa5226ae"
      },
      "execution_count": null,
      "outputs": [
        {
          "output_type": "execute_result",
          "data": {
            "text/plain": [
              "array([ 1,  4,  9, 16, 25])"
            ]
          },
          "metadata": {},
          "execution_count": 8
        }
      ]
    },
    {
      "cell_type": "markdown",
      "metadata": {
        "id": "0a55ea42"
      },
      "source": [
        "**The biggest benefit of Numpy is that it supports element-wise operation.**\n",
        "\n",
        "Notice how easy and clean is the syntax.\n",
        "\n",
        "But is the clean syntax and ease in writing the only benefit we are getting here?\n",
        "\n",
        "- To understand this, let's measure the time for these operations.\n",
        "- We will use `%timeit`."
      ]
    },
    {
      "cell_type": "code",
      "execution_count": null,
      "metadata": {
        "id": "69482318"
      },
      "outputs": [],
      "source": [
        "l = range(1000000)"
      ]
    },
    {
      "cell_type": "code",
      "execution_count": null,
      "metadata": {
        "colab": {
          "base_uri": "https://localhost:8080/"
        },
        "id": "-rcVsXzoI1fy",
        "outputId": "f68850bb-e20f-4e76-e53b-5e2343a051b7"
      },
      "outputs": [
        {
          "output_type": "stream",
          "name": "stdout",
          "text": [
            "343 ms ± 21.6 ms per loop (mean ± std. dev. of 7 runs, 1 loop each)\n"
          ]
        }
      ],
      "source": [
        "%timeit [i**2 for i in l]"
      ]
    },
    {
      "cell_type": "markdown",
      "metadata": {
        "id": "Fs6BjoqTI1fz"
      },
      "source": [
        "**It took approx 300 ms  per loop to iterate and square all elements from 0 to 999,999**\n",
        "\n"
      ]
    },
    {
      "cell_type": "markdown",
      "metadata": {
        "id": "vfsCJFZmI1fz"
      },
      "source": [
        "Let's peform the same operation using Numpy arrays -\n",
        "\n",
        "- We will use `np.array()` method for this.\n",
        "- We can peform element wise operation using numpy."
      ]
    },
    {
      "cell_type": "code",
      "source": [
        "l = np.array(range(1000000))"
      ],
      "metadata": {
        "id": "UvUSfLnC4K83"
      },
      "execution_count": null,
      "outputs": []
    },
    {
      "cell_type": "code",
      "execution_count": null,
      "metadata": {
        "id": "75b22e64",
        "outputId": "53ce0929-a425-4a88-a948-70f9c8ca95f2",
        "colab": {
          "base_uri": "https://localhost:8080/"
        }
      },
      "outputs": [
        {
          "output_type": "stream",
          "name": "stdout",
          "text": [
            "778 µs ± 100 µs per loop (mean ± std. dev. of 7 runs, 1000 loops each)\n"
          ]
        }
      ],
      "source": [
        "%timeit l**2"
      ]
    },
    {
      "cell_type": "markdown",
      "source": [
        "Notice that it only took 900 $\\mu$s per loop time for the numpy operation.\n",
        "\n",
        "**What is the major reason behind numpy's faster computation?**\n",
        "\n",
        "- Numpy array is densely packed in memory due to it's **homogenous** type.\n",
        "- Numpy functions are implemented in **C programming launguage**.\n",
        "- Numpy is able to divide a task into multiple subtasks and process them **parallelly.**"
      ],
      "metadata": {
        "id": "3jyg69UAF1id"
      }
    },
    {
      "cell_type": "markdown",
      "source": [
        "---"
      ],
      "metadata": {
        "id": "ioZX-lrPf8oE"
      }
    },
    {
      "cell_type": "markdown",
      "metadata": {
        "id": "fK_MHP7WtJop"
      },
      "source": [
        "## **Dimensions and Shape**\n",
        "\n",
        "**We can get the dimension of an array using the `ndim` property.**"
      ]
    },
    {
      "cell_type": "code",
      "execution_count": null,
      "metadata": {
        "colab": {
          "base_uri": "https://localhost:8080/"
        },
        "id": "7rA5dpMBtfDa",
        "outputId": "ed866404-378b-4aa9-c4d8-e6816c9f21db"
      },
      "outputs": [
        {
          "output_type": "execute_result",
          "data": {
            "text/plain": [
              "1"
            ]
          },
          "metadata": {},
          "execution_count": 13
        }
      ],
      "source": [
        "arr1 = np.array(range(1000000))\n",
        "arr1.ndim"
      ]
    },
    {
      "cell_type": "markdown",
      "metadata": {
        "id": "ZSjrXVdxtp5o"
      },
      "source": [
        "**Numpy arrays have another property called `shape` that tells us number of elements across every dimension.**"
      ]
    },
    {
      "cell_type": "code",
      "execution_count": null,
      "metadata": {
        "colab": {
          "base_uri": "https://localhost:8080/"
        },
        "id": "Ig_lYE13tzGF",
        "outputId": "7b05e013-18ea-40dc-e68d-99b39086d31d"
      },
      "outputs": [
        {
          "output_type": "execute_result",
          "data": {
            "text/plain": [
              "(1000000,)"
            ]
          },
          "metadata": {},
          "execution_count": 14
        }
      ],
      "source": [
        "arr1.shape"
      ]
    },
    {
      "cell_type": "markdown",
      "source": [
        "This means that the array `arr1` has 1000000 elements in a single dimension.\n",
        "\n",
        "Let's take another example to understand `shape` and `ndim` better."
      ],
      "metadata": {
        "id": "5d6nt4T83zLt"
      }
    },
    {
      "cell_type": "code",
      "source": [
        "arr2 = np.array([[1, 2, 3], [4, 5, 6], [10, 11, 12]])\n",
        "print(arr2)"
      ],
      "metadata": {
        "colab": {
          "base_uri": "https://localhost:8080/"
        },
        "id": "mT-j3dn933XM",
        "outputId": "4e77739a-7622-46fc-9c21-d1f6cb006d61"
      },
      "execution_count": null,
      "outputs": [
        {
          "output_type": "stream",
          "name": "stdout",
          "text": [
            "[[ 1  2  3]\n",
            " [ 4  5  6]\n",
            " [10 11 12]]\n"
          ]
        }
      ]
    },
    {
      "cell_type": "markdown",
      "source": [
        "**What do you think will be the shape & dimension of this array?**"
      ],
      "metadata": {
        "id": "3nY1fxUR4AFS"
      }
    },
    {
      "cell_type": "code",
      "source": [
        "arr2.ndim"
      ],
      "metadata": {
        "colab": {
          "base_uri": "https://localhost:8080/"
        },
        "id": "XJGsC_I44EM2",
        "outputId": "0e77fdb3-f9d6-4e31-8a55-9d165074f6d8"
      },
      "execution_count": null,
      "outputs": [
        {
          "output_type": "execute_result",
          "data": {
            "text/plain": [
              "2"
            ]
          },
          "metadata": {},
          "execution_count": 16
        }
      ]
    },
    {
      "cell_type": "code",
      "source": [
        "arr2.shape"
      ],
      "metadata": {
        "id": "EleOLJFJ4Jej",
        "outputId": "7c12812e-34ee-44d1-a341-8ab65e32d364",
        "colab": {
          "base_uri": "https://localhost:8080/"
        }
      },
      "execution_count": null,
      "outputs": [
        {
          "output_type": "execute_result",
          "data": {
            "text/plain": [
              "(3, 3)"
            ]
          },
          "metadata": {},
          "execution_count": 17
        }
      ]
    },
    {
      "cell_type": "markdown",
      "source": [
        "`ndim` specifies the number of dimensions of the array i.e. 1D (1), 2D (2), 3D (3) and so on.\n",
        "\n",
        "`shape` returns the exact shape in all dimensions, that is (3,3) which implies 3 in axis 0 and 3 in axis 1."
      ],
      "metadata": {
        "id": "9v15Dy-j1wcs"
      }
    },
    {
      "cell_type": "markdown",
      "source": [
        "<img src=\"https://drive.google.com/uc?id=1GSV_E1CaCc_Ur7pWJ-Kqv0VKvBRwByR1\">"
      ],
      "metadata": {
        "id": "KB5kqONgv4l7"
      }
    },
    {
      "cell_type": "markdown",
      "source": [
        "---"
      ],
      "metadata": {
        "id": "K454rvx3o98z"
      }
    },
    {
      "cell_type": "markdown",
      "metadata": {
        "id": "RrUfgYqt1t0P"
      },
      "source": [
        "### **`np.arange()`**\n",
        "\n",
        "Let's create some sequences in  Numpy.\n",
        "\n",
        "We can pass **starting** point, **ending** point (not included in the array) and **step-size**.\n",
        "\n",
        "**Syntax:**\n",
        "- `arange(start, end, step)`"
      ]
    },
    {
      "cell_type": "code",
      "execution_count": null,
      "metadata": {
        "id": "_p-Zg_ap1t0Q",
        "outputId": "0e75fa56-d70d-4d5f-b080-64d128c94e4d",
        "colab": {
          "base_uri": "https://localhost:8080/"
        }
      },
      "outputs": [
        {
          "output_type": "execute_result",
          "data": {
            "text/plain": [
              "array([1, 2, 3, 4])"
            ]
          },
          "metadata": {},
          "execution_count": 18
        }
      ],
      "source": [
        "arr2 = np.arange(1, 5)\n",
        "arr2"
      ]
    },
    {
      "cell_type": "code",
      "execution_count": null,
      "metadata": {
        "id": "Qc0UF4y91t0R",
        "outputId": "e5fa76b9-6d6e-49a8-c3e3-84554afdc404",
        "colab": {
          "base_uri": "https://localhost:8080/"
        }
      },
      "outputs": [
        {
          "output_type": "execute_result",
          "data": {
            "text/plain": [
              "array([1, 3])"
            ]
          },
          "metadata": {},
          "execution_count": 19
        }
      ],
      "source": [
        "arr2_step = np.arange(1, 5, 2)\n",
        "arr2_step"
      ]
    },
    {
      "cell_type": "markdown",
      "metadata": {
        "id": "lVvk-l5I1t0S"
      },
      "source": [
        "`np.arange()` behaves in the same way as `range()` function.\n",
        "\n",
        "**But then why not call it np.range?**\n",
        "\n",
        "- In `np.arange()`, we can pass a **floating point number** as **step-size**."
      ]
    },
    {
      "cell_type": "code",
      "execution_count": null,
      "metadata": {
        "id": "XJE3CQmk1t0S",
        "outputId": "ec39fb20-2af0-40ce-e45d-fdc150a60259",
        "colab": {
          "base_uri": "https://localhost:8080/"
        }
      },
      "outputs": [
        {
          "output_type": "execute_result",
          "data": {
            "text/plain": [
              "array([1. , 1.5, 2. , 2.5, 3. , 3.5, 4. , 4.5])"
            ]
          },
          "metadata": {},
          "execution_count": 20
        }
      ],
      "source": [
        "arr3 = np.arange(1, 5, 0.5)\n",
        "arr3"
      ]
    },
    {
      "cell_type": "markdown",
      "source": [
        "---"
      ],
      "metadata": {
        "id": "EIbyHAY8pB-M"
      }
    },
    {
      "cell_type": "markdown",
      "metadata": {
        "id": "iXVpxIL01t0c"
      },
      "source": [
        "## **Type Conversion in Numpy Arrays**\n",
        "\n",
        "For this, let's pass a **float** as one of the values in a **numpy array**."
      ]
    },
    {
      "cell_type": "code",
      "execution_count": null,
      "metadata": {
        "id": "IxFs8oYG1t0d",
        "outputId": "6b4252ba-465c-4c2a-8abb-00521d228b42",
        "colab": {
          "base_uri": "https://localhost:8080/"
        }
      },
      "outputs": [
        {
          "output_type": "execute_result",
          "data": {
            "text/plain": [
              "array([1, 2, 3, 4])"
            ]
          },
          "metadata": {},
          "execution_count": 21
        }
      ],
      "source": [
        "arr4 = np.array([1, 2, 3, 4])\n",
        "arr4"
      ]
    },
    {
      "cell_type": "code",
      "execution_count": null,
      "metadata": {
        "id": "lYSnsUBR1t0d",
        "outputId": "d1d25731-41f1-43a6-ba86-236684f8a92b",
        "colab": {
          "base_uri": "https://localhost:8080/"
        }
      },
      "outputs": [
        {
          "output_type": "execute_result",
          "data": {
            "text/plain": [
              "array([1., 2., 3., 4.])"
            ]
          },
          "metadata": {},
          "execution_count": 22
        }
      ],
      "source": [
        "arr4 = np.array([1, 2, 3, 4.0])\n",
        "arr4"
      ]
    },
    {
      "cell_type": "markdown",
      "metadata": {
        "id": "05189e76"
      },
      "source": [
        "- Notice that **`int` is raised to `float`**\n",
        "- Because a numpy array can only store **homogenous data** i.e. values of one data type."
      ]
    },
    {
      "cell_type": "markdown",
      "source": [
        "Similarly, what will happen when we run the following code? Will it give an error?"
      ],
      "metadata": {
        "id": "H8eUPbAm7k2L"
      }
    },
    {
      "cell_type": "code",
      "source": [
        "np.array([\"Harry Potter\", 1, 2, 3])"
      ],
      "metadata": {
        "colab": {
          "base_uri": "https://localhost:8080/"
        },
        "id": "UpIsOM7A7kAM",
        "outputId": "ba3edcf6-fcd3-46d9-b93c-5bd306cebb83"
      },
      "execution_count": null,
      "outputs": [
        {
          "output_type": "execute_result",
          "data": {
            "text/plain": [
              "array(['Harry Potter', '1', '2', '3'], dtype='<U21')"
            ]
          },
          "metadata": {},
          "execution_count": 23
        }
      ]
    },
    {
      "cell_type": "markdown",
      "source": [
        "No. It will convert all elements of the array to `char` type."
      ],
      "metadata": {
        "id": "xCAdW1tt7w4O"
      }
    },
    {
      "cell_type": "markdown",
      "source": [
        "There's a `dtype` parameter in the `np.array()` function.\n",
        "\n",
        "**What if we set the `dtype` of array containing `integer` values to `float`?**"
      ],
      "metadata": {
        "id": "vog9QPxt-Uis"
      }
    },
    {
      "cell_type": "code",
      "execution_count": null,
      "metadata": {
        "id": "96JiRtYz1t0f",
        "outputId": "7cb7ab19-669e-42e3-e9bb-e069043f0c1d",
        "colab": {
          "base_uri": "https://localhost:8080/"
        }
      },
      "outputs": [
        {
          "output_type": "execute_result",
          "data": {
            "text/plain": [
              "array([1, 2, 3, 4])"
            ]
          },
          "metadata": {},
          "execution_count": 24
        }
      ],
      "source": [
        "arr5 = np.array([1, 2, 3, 4])\n",
        "arr5"
      ]
    },
    {
      "cell_type": "code",
      "execution_count": null,
      "metadata": {
        "id": "yUv3qQJ71t0f",
        "outputId": "8b22f97c-bba9-4a2b-cc28-30f01fa6ae62",
        "colab": {
          "base_uri": "https://localhost:8080/"
        }
      },
      "outputs": [
        {
          "output_type": "execute_result",
          "data": {
            "text/plain": [
              "array([1., 2., 3., 4.])"
            ]
          },
          "metadata": {},
          "execution_count": 25
        }
      ],
      "source": [
        "arr5 = np.array([1, 2, 3, 4], dtype=\"float\")\n",
        "arr5"
      ]
    },
    {
      "cell_type": "markdown",
      "source": [
        "**Question:** What will happen in the following code?"
      ],
      "metadata": {
        "id": "R8apZ50V8Fcx"
      }
    },
    {
      "cell_type": "code",
      "source": [
        "np.array([\"Shivank\", \"Bipin\", \"Ritwik\"], dtype=float)"
      ],
      "metadata": {
        "colab": {
          "base_uri": "https://localhost:8080/",
          "height": 179
        },
        "id": "tjdRVLBc8IoR",
        "outputId": "8499ae71-146e-444b-8d19-164760038316"
      },
      "execution_count": null,
      "outputs": [
        {
          "output_type": "error",
          "ename": "ValueError",
          "evalue": "could not convert string to float: 'Shivank'",
          "traceback": [
            "\u001b[0;31m---------------------------------------------------------------------------\u001b[0m",
            "\u001b[0;31mValueError\u001b[0m                                Traceback (most recent call last)",
            "\u001b[0;32m<ipython-input-26-bdb627c3c07e>\u001b[0m in \u001b[0;36m<cell line: 1>\u001b[0;34m()\u001b[0m\n\u001b[0;32m----> 1\u001b[0;31m \u001b[0mnp\u001b[0m\u001b[0;34m.\u001b[0m\u001b[0marray\u001b[0m\u001b[0;34m(\u001b[0m\u001b[0;34m[\u001b[0m\u001b[0;34m\"Shivank\"\u001b[0m\u001b[0;34m,\u001b[0m \u001b[0;34m\"Bipin\"\u001b[0m\u001b[0;34m,\u001b[0m \u001b[0;34m\"Ritwik\"\u001b[0m\u001b[0;34m]\u001b[0m\u001b[0;34m,\u001b[0m \u001b[0mdtype\u001b[0m\u001b[0;34m=\u001b[0m\u001b[0mfloat\u001b[0m\u001b[0;34m)\u001b[0m\u001b[0;34m\u001b[0m\u001b[0;34m\u001b[0m\u001b[0m\n\u001b[0m",
            "\u001b[0;31mValueError\u001b[0m: could not convert string to float: 'Shivank'"
          ]
        }
      ]
    },
    {
      "cell_type": "markdown",
      "source": [
        "Since it is not possible to convert strings of alphabets to floats, it will naturally return an Error.\n",
        "\n",
        "\\\n",
        "We can also convert the data type with the `astype()` method."
      ],
      "metadata": {
        "id": "q3aQbo7D8VKi"
      }
    },
    {
      "cell_type": "code",
      "source": [
        "arr = np.array([10, 20, 30, 40, 50])\n",
        "arr"
      ],
      "metadata": {
        "colab": {
          "base_uri": "https://localhost:8080/"
        },
        "id": "iTJgh2cLbr1f",
        "outputId": "41d698a8-df08-40b4-bae9-e68fa97eb731"
      },
      "execution_count": null,
      "outputs": [
        {
          "output_type": "execute_result",
          "data": {
            "text/plain": [
              "array([10, 20, 30, 40, 50])"
            ]
          },
          "metadata": {},
          "execution_count": 27
        }
      ]
    },
    {
      "cell_type": "code",
      "source": [
        "arr = arr.astype('float64')\n",
        "print(arr)"
      ],
      "metadata": {
        "colab": {
          "base_uri": "https://localhost:8080/"
        },
        "id": "gTEFHf60b6x-",
        "outputId": "3cf33ed6-3452-44b2-8f5d-1806b324c507"
      },
      "execution_count": null,
      "outputs": [
        {
          "output_type": "stream",
          "name": "stdout",
          "text": [
            "[10. 20. 30. 40. 50.]\n"
          ]
        }
      ]
    },
    {
      "cell_type": "markdown",
      "source": [
        "---"
      ],
      "metadata": {
        "id": "KTf5e8uiVUGa"
      }
    },
    {
      "cell_type": "markdown",
      "metadata": {
        "id": "istW-j-21t08"
      },
      "source": [
        "## **Indexing**\n",
        "\n",
        "- Similar to Python lists"
      ]
    },
    {
      "cell_type": "code",
      "execution_count": null,
      "metadata": {
        "colab": {
          "base_uri": "https://localhost:8080/"
        },
        "id": "9dEG23Dt1t09",
        "outputId": "1ecd2a3d-8815-473e-c5b0-0ab5e5edd034"
      },
      "outputs": [
        {
          "output_type": "execute_result",
          "data": {
            "text/plain": [
              "array([ 0,  1,  2,  3,  4,  5,  6,  7,  8,  9, 10, 11])"
            ]
          },
          "metadata": {},
          "execution_count": 29
        }
      ],
      "source": [
        "m1 = np.arange(12)\n",
        "m1"
      ]
    },
    {
      "cell_type": "code",
      "execution_count": null,
      "metadata": {
        "colab": {
          "base_uri": "https://localhost:8080/"
        },
        "id": "RrbC2JVc1t0-",
        "outputId": "43cefeac-f227-4434-ed89-50acb583910b"
      },
      "outputs": [
        {
          "output_type": "execute_result",
          "data": {
            "text/plain": [
              "0"
            ]
          },
          "metadata": {},
          "execution_count": 30
        }
      ],
      "source": [
        "m1[0] # gives first element of array"
      ]
    },
    {
      "cell_type": "code",
      "source": [
        "m1[-1] # negative indexing in numpy array"
      ],
      "metadata": {
        "id": "TDcsMtzcCqiW",
        "colab": {
          "base_uri": "https://localhost:8080/"
        },
        "outputId": "71883d12-7124-4a3a-8f90-4f960cd86b69"
      },
      "execution_count": null,
      "outputs": [
        {
          "output_type": "execute_result",
          "data": {
            "text/plain": [
              "11"
            ]
          },
          "metadata": {},
          "execution_count": 31
        }
      ]
    },
    {
      "cell_type": "markdown",
      "metadata": {
        "id": "q5xBtDrAb0Fa"
      },
      "source": [
        "You can also use list of indexes in numpy."
      ]
    },
    {
      "cell_type": "code",
      "execution_count": null,
      "metadata": {
        "id": "heVDJRWAcNGz"
      },
      "outputs": [],
      "source": [
        "m1 = np.array([100,200,300,400,500,600])"
      ]
    },
    {
      "cell_type": "code",
      "execution_count": null,
      "metadata": {
        "id": "58Wyc-GIb8Ct",
        "colab": {
          "base_uri": "https://localhost:8080/"
        },
        "outputId": "0d2df29e-e1d6-4c6c-cc2e-e326a88020e9"
      },
      "outputs": [
        {
          "output_type": "execute_result",
          "data": {
            "text/plain": [
              "array([300, 400, 500, 200, 300, 300])"
            ]
          },
          "metadata": {},
          "execution_count": 33
        }
      ],
      "source": [
        "m1[[2,3,4,1,2,2]]"
      ]
    },
    {
      "cell_type": "markdown",
      "metadata": {
        "id": "zHudz61AcGWO"
      },
      "source": [
        "Did you notice how single index can be repeated multiple times when giving list of indexes?\n",
        "\n",
        "**Note:**\n",
        "- If you want to extract multiple indices, you need to use two sets of square brackets `[[ ]]`\n",
        "  - Otherwise, you will get an error.\n",
        "- Because it is only expecting a single index.\n",
        "- For multiple indices, you need to pass them as a list.\n",
        "\n"
      ]
    },
    {
      "cell_type": "code",
      "source": [
        "m1[2,3,4,1,2,2]"
      ],
      "metadata": {
        "colab": {
          "base_uri": "https://localhost:8080/",
          "height": 179
        },
        "id": "bC8KFXQ-_8hR",
        "outputId": "583f1cd4-fadd-4b67-fac1-c5e0e24547dc"
      },
      "execution_count": null,
      "outputs": [
        {
          "output_type": "error",
          "ename": "IndexError",
          "evalue": "too many indices for array: array is 1-dimensional, but 6 were indexed",
          "traceback": [
            "\u001b[0;31m---------------------------------------------------------------------------\u001b[0m",
            "\u001b[0;31mIndexError\u001b[0m                                Traceback (most recent call last)",
            "\u001b[0;32m<ipython-input-34-0ec34089038e>\u001b[0m in \u001b[0;36m<cell line: 1>\u001b[0;34m()\u001b[0m\n\u001b[0;32m----> 1\u001b[0;31m \u001b[0mm1\u001b[0m\u001b[0;34m[\u001b[0m\u001b[0;36m2\u001b[0m\u001b[0;34m,\u001b[0m\u001b[0;36m3\u001b[0m\u001b[0;34m,\u001b[0m\u001b[0;36m4\u001b[0m\u001b[0;34m,\u001b[0m\u001b[0;36m1\u001b[0m\u001b[0;34m,\u001b[0m\u001b[0;36m2\u001b[0m\u001b[0;34m,\u001b[0m\u001b[0;36m2\u001b[0m\u001b[0;34m]\u001b[0m\u001b[0;34m\u001b[0m\u001b[0;34m\u001b[0m\u001b[0m\n\u001b[0m",
            "\u001b[0;31mIndexError\u001b[0m: too many indices for array: array is 1-dimensional, but 6 were indexed"
          ]
        }
      ]
    },
    {
      "cell_type": "markdown",
      "source": [
        "---"
      ],
      "metadata": {
        "id": "IAWDDVviVZvI"
      }
    },
    {
      "cell_type": "markdown",
      "metadata": {
        "id": "cKmm6fX21t1A"
      },
      "source": [
        "## **Slicing**\n",
        "\n",
        "- Similar to Python lists"
      ]
    },
    {
      "cell_type": "code",
      "execution_count": null,
      "metadata": {
        "id": "zQmukPpor5dz",
        "colab": {
          "base_uri": "https://localhost:8080/"
        },
        "outputId": "ccec05bf-13f1-4cf8-b97f-8fa2c2ff32b9"
      },
      "outputs": [
        {
          "output_type": "execute_result",
          "data": {
            "text/plain": [
              "array([ 1,  2,  3,  4,  5,  6,  7,  8,  9, 10])"
            ]
          },
          "metadata": {},
          "execution_count": 35
        }
      ],
      "source": [
        "m1 = np.array([1, 2, 3, 4, 5, 6, 7, 8, 9, 10])\n",
        "m1"
      ]
    },
    {
      "cell_type": "code",
      "execution_count": null,
      "metadata": {
        "id": "TtS5ZlBer8AE",
        "colab": {
          "base_uri": "https://localhost:8080/"
        },
        "outputId": "55f15a1d-4055-4fce-a0e3-795da4f92392"
      },
      "outputs": [
        {
          "output_type": "execute_result",
          "data": {
            "text/plain": [
              "array([1, 2, 3, 4, 5])"
            ]
          },
          "metadata": {},
          "execution_count": 36
        }
      ],
      "source": [
        "m1[:5]"
      ]
    },
    {
      "cell_type": "markdown",
      "source": [
        "**Question:** What'll be output of `arr[-5:-1]` ?"
      ],
      "metadata": {
        "id": "QhJMZ0Uh435M"
      }
    },
    {
      "cell_type": "code",
      "source": [
        "m1[-5:-1]"
      ],
      "metadata": {
        "colab": {
          "base_uri": "https://localhost:8080/"
        },
        "id": "qe64pELf5BeC",
        "outputId": "ac502128-784d-47f2-a1a2-fa9f3749ce31"
      },
      "execution_count": null,
      "outputs": [
        {
          "output_type": "execute_result",
          "data": {
            "text/plain": [
              "array([6, 7, 8, 9])"
            ]
          },
          "metadata": {},
          "execution_count": 37
        }
      ]
    },
    {
      "cell_type": "markdown",
      "source": [
        "**Question:** What'll be the output for `arr[-5:-1: -1]` ?\n",
        "\n",
        "\n"
      ],
      "metadata": {
        "id": "Ple-vZjn6S4I"
      }
    },
    {
      "cell_type": "code",
      "source": [
        "m1[-5: -1: -1]"
      ],
      "metadata": {
        "colab": {
          "base_uri": "https://localhost:8080/"
        },
        "id": "732v2Zd26a6K",
        "outputId": "de3ee7cf-b487-46e7-ae7f-495496f05c13"
      },
      "execution_count": null,
      "outputs": [
        {
          "output_type": "execute_result",
          "data": {
            "text/plain": [
              "array([], dtype=int64)"
            ]
          },
          "metadata": {},
          "execution_count": 38
        }
      ]
    },
    {
      "cell_type": "markdown",
      "source": [
        "---"
      ],
      "metadata": {
        "id": "d_vUy6tZVYS4"
      }
    },
    {
      "cell_type": "markdown",
      "source": [
        "## **Fancy Indexing (Masking)**\n",
        "\n",
        "- Numpy arrays can be indexed with boolean arrays (masks).\n",
        "- This method is called **fancy indexing** or **masking**.\n",
        "\n",
        "\\\n",
        "What would happen if we do this?\n"
      ],
      "metadata": {
        "id": "ZTUZpHqK3rFR"
      }
    },
    {
      "cell_type": "code",
      "source": [
        "m1 = np.array([1, 2, 3, 4, 5, 6, 7, 8, 9, 10])\n",
        "m1 < 6"
      ],
      "metadata": {
        "colab": {
          "base_uri": "https://localhost:8080/"
        },
        "id": "_cADsZ0u3686",
        "outputId": "c2619b1c-0854-484e-ca1f-4c73007296e9"
      },
      "execution_count": null,
      "outputs": [
        {
          "output_type": "execute_result",
          "data": {
            "text/plain": [
              "array([ True,  True,  True,  True,  True, False, False, False, False,\n",
              "       False])"
            ]
          },
          "metadata": {},
          "execution_count": 39
        }
      ]
    },
    {
      "cell_type": "markdown",
      "source": [
        "**Comparison operation also happens on each element**.\n",
        "- All the values before 6 return `True`\n",
        "- All the values after 6 return `False`\n",
        "\n"
      ],
      "metadata": {
        "id": "MbQl-PbO4BZv"
      }
    },
    {
      "cell_type": "markdown",
      "source": [
        "**Question:** What will be the output of the following?"
      ],
      "metadata": {
        "id": "rITEk1S6BWYe"
      }
    },
    {
      "cell_type": "code",
      "source": [
        "m1[[True,  True,  True,  True,  True, False, False, False, False, False]]"
      ],
      "metadata": {
        "colab": {
          "base_uri": "https://localhost:8080/"
        },
        "id": "Mo3BtoL_BaLF",
        "outputId": "22838085-f2f8-438a-82ba-0434f50d9935"
      },
      "execution_count": null,
      "outputs": [
        {
          "output_type": "execute_result",
          "data": {
            "text/plain": [
              "array([1, 2, 3, 4, 5])"
            ]
          },
          "metadata": {},
          "execution_count": 40
        }
      ]
    },
    {
      "cell_type": "markdown",
      "source": [
        "Notice that we are passing a list of indices.\n",
        "- For every instance of `True`, it will print the corresponding index.\n",
        "- Conversely, for every `False`, it will skip the corresponding index, and not print it.\n",
        "\n",
        "So, this becomes a **filter** of sorts."
      ],
      "metadata": {
        "id": "kmm8vBt_BiV6"
      }
    },
    {
      "cell_type": "markdown",
      "source": [
        "Now, let's use this to filter or mask values from our array.\n",
        "\n",
        "**Condition will be passed instead of indices and slice ranges.**"
      ],
      "metadata": {
        "id": "pzglsmi0BV3X"
      }
    },
    {
      "cell_type": "code",
      "source": [
        "m1[m1 < 6]"
      ],
      "metadata": {
        "colab": {
          "base_uri": "https://localhost:8080/"
        },
        "id": "_4SdpXfp4J6z",
        "outputId": "a2cc2f15-bacb-4cae-ee91-afd99a12aa71"
      },
      "execution_count": null,
      "outputs": [
        {
          "output_type": "execute_result",
          "data": {
            "text/plain": [
              "array([1, 2, 3, 4, 5])"
            ]
          },
          "metadata": {},
          "execution_count": 41
        }
      ]
    },
    {
      "cell_type": "markdown",
      "source": [
        "This is known as **Fancy Indexing** in Numpy.\n",
        "\n",
        "\\\n",
        "**Question:** How can we filter/mask even values from our array?"
      ],
      "metadata": {
        "id": "ZVupmj-pCvUc"
      }
    },
    {
      "cell_type": "code",
      "source": [
        "m1[m1%2 == 0]"
      ],
      "metadata": {
        "colab": {
          "base_uri": "https://localhost:8080/"
        },
        "id": "pK9D03Rp4UM1",
        "outputId": "411c44e3-9b98-4539-cd66-1b8a3b8b83ff"
      },
      "execution_count": null,
      "outputs": [
        {
          "output_type": "execute_result",
          "data": {
            "text/plain": [
              "array([ 2,  4,  6,  8, 10])"
            ]
          },
          "metadata": {},
          "execution_count": 42
        }
      ]
    },
    {
      "cell_type": "markdown",
      "source": [
        "---"
      ],
      "metadata": {
        "id": "5FZwnWtTW--a"
      }
    },
    {
      "cell_type": "markdown",
      "metadata": {
        "id": "VSVU-5ScMbDp"
      },
      "source": [
        "## **Use Case: NPS (Net Promoter Score)**\n"
      ]
    },
    {
      "cell_type": "markdown",
      "source": [
        "#### Imagine you are a Data Analyst @ Airbnb\n",
        "\n",
        "You've been asked to analyze user survey data and report NPS to the management.\n",
        "\n",
        "#### But, what exactly is NPS?\n",
        "\n",
        "Have you all seen that every month, you get a survey form from Scaler?\n",
        "\n",
        "- This form asks you to fill in feedback regarding how you are liking the services of Scaler in terms of a numerical score.\n",
        "- This is known as the **Likelihood to Recommend Survey**.\n",
        "- It is widely used by different companies and service providers to evaluate their performance and customer satisfaction.\n",
        "\n",
        "<img src=\"https://drive.google.com/uc?id=1-u8e-v_90JdikorKsKzBM-JJqoRtzsN8\">\n",
        "\n",
        "- Responses are given a scale ranging from 0–10,\n",
        "    - with 0 labeled with “Not at all likely,” and\n",
        "    - 10 labeled with “Extremely likely.”\n",
        "\n",
        "Based on this, we calculate the **Net Promoter Score**."
      ],
      "metadata": {
        "id": "RaDSdx24tVEQ"
      }
    },
    {
      "cell_type": "markdown",
      "source": [
        "### **How to calculate NPS score?**\n",
        "\n",
        "<img src=\"https://drive.google.com/uc?id=1KPIYlaN68vlL99iApaF5QbeBoyT24-Eu\">\n",
        "\n",
        "We label our responses into 3 categories:\n",
        "- **Detractors**: Respondents with a score of 0-6\n",
        "- **Passive**: Respondents with a score of 7-8\n",
        "- **Promoters**: Respondents with a score of 9-10.\n",
        "\n",
        "```\n",
        "Net Promoter score = % Promoters - % Detractors.\n",
        "```\n"
      ],
      "metadata": {
        "id": "B-75b1TJtbmI"
      }
    },
    {
      "cell_type": "markdown",
      "source": [
        "![image.png](data:image/png;base64,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)"
      ],
      "metadata": {
        "id": "82NVCpHWWxXc"
      }
    },
    {
      "cell_type": "markdown",
      "source": [
        "### **Range of NPS**\n",
        "\n",
        "- If all people are promoters (rated 9-10), we get $100$ NPS\n",
        "- Conversely, if all people are detractors (rated 0-6), we get $-100$ NPS\n",
        "- Also, if all people are neutral (rated 7-8), we get a $0$ NPS\n",
        "\n",
        "Therefore, the range of NPS lies between $[-100, 100]$\n",
        "\n",
        "\\\n",
        "Generally, each company targets to get at least a threshold NPS.\n",
        "- For Scaler, this is a score of 70.\n",
        "- This means that if $NPS > 70%$, it is great performance of the company.\n",
        "\n",
        "Naturally, this varies from business to business."
      ],
      "metadata": {
        "id": "wwylhpdPVfY5"
      }
    },
    {
      "cell_type": "markdown",
      "source": [
        "### **How is NPS helpful?**\n",
        "\n",
        "####  Why would we want to analyse the survey data for NPS?\n",
        "\n",
        "NPS helps a brand in gauging its brand value and sentiment in the market.\n",
        "\n",
        "- Promoters are highly likely to recommend your product or sevice. Hence, bringing in more business.\n",
        "- whereas, Detractors are likely to recommend against your product or service’s usage. Hence, bringing the business down.\n",
        "\n",
        "\\\n",
        "These insights can help business make customer oriented decision along with product improvisation.\n",
        "\n",
        "**2/3 of Fortune 500 companies use NPS**\n",
        "\n",
        "\\\n",
        "Even at Scaler, every month, we randomnly reach out to our learners over a call, and try to understand,\n",
        "- How is the overall experience for them?\n",
        "- What are some things that they like?\n",
        "- What do they don't like?\n",
        "\n",
        "Based on the feedback received, sometimes we end up getting really good insights, and tackle them.\n",
        "\n",
        "This will help improve the next month's NPS."
      ],
      "metadata": {
        "id": "hNBq80sJYju_"
      }
    },
    {
      "cell_type": "markdown",
      "source": [
        "### **NPS Problem**"
      ],
      "metadata": {
        "id": "VdvLhHo5DsiX"
      }
    },
    {
      "cell_type": "markdown",
      "source": [
        "Let's first look at the data we have gathered.\n",
        "\n",
        "**Dataset:** https://drive.google.com/file/d/1c0ClC8SrPwJq5rrkyMKyPn80nyHcFikK/view?usp=sharing\n",
        "\n",
        "<img width = 500 src=\"https://drive.google.com/uc?id=1arJhLlzbr_Rf7ONxpkzo726mLbTyLb_p\">\n",
        "\n",
        "\n"
      ],
      "metadata": {
        "id": "AIMPw8nzEuoP"
      }
    },
    {
      "cell_type": "markdown",
      "source": [
        "Downloading the dataset -"
      ],
      "metadata": {
        "id": "TAA0rNNYM2Fa"
      }
    },
    {
      "cell_type": "code",
      "execution_count": null,
      "metadata": {
        "colab": {
          "base_uri": "https://localhost:8080/"
        },
        "outputId": "f169f7d9-64b6-4e05-d858-429faaf9bd5c",
        "id": "QH-EmHqA6fwo"
      },
      "outputs": [
        {
          "output_type": "stream",
          "name": "stdout",
          "text": [
            "Requirement already satisfied: gdown in /usr/local/lib/python3.10/dist-packages (4.7.3)\n",
            "Collecting gdown\n",
            "  Downloading gdown-5.1.0-py3-none-any.whl (17 kB)\n",
            "Requirement already satisfied: beautifulsoup4 in /usr/local/lib/python3.10/dist-packages (from gdown) (4.12.3)\n",
            "Requirement already satisfied: filelock in /usr/local/lib/python3.10/dist-packages (from gdown) (3.13.1)\n",
            "Requirement already satisfied: requests[socks] in /usr/local/lib/python3.10/dist-packages (from gdown) (2.31.0)\n",
            "Requirement already satisfied: tqdm in /usr/local/lib/python3.10/dist-packages (from gdown) (4.66.1)\n",
            "Requirement already satisfied: soupsieve>1.2 in /usr/local/lib/python3.10/dist-packages (from beautifulsoup4->gdown) (2.5)\n",
            "Requirement already satisfied: charset-normalizer<4,>=2 in /usr/local/lib/python3.10/dist-packages (from requests[socks]->gdown) (3.3.2)\n",
            "Requirement already satisfied: idna<4,>=2.5 in /usr/local/lib/python3.10/dist-packages (from requests[socks]->gdown) (3.6)\n",
            "Requirement already satisfied: urllib3<3,>=1.21.1 in /usr/local/lib/python3.10/dist-packages (from requests[socks]->gdown) (2.0.7)\n",
            "Requirement already satisfied: certifi>=2017.4.17 in /usr/local/lib/python3.10/dist-packages (from requests[socks]->gdown) (2023.11.17)\n",
            "Requirement already satisfied: PySocks!=1.5.7,>=1.5.6 in /usr/local/lib/python3.10/dist-packages (from requests[socks]->gdown) (1.7.1)\n",
            "Installing collected packages: gdown\n",
            "  Attempting uninstall: gdown\n",
            "    Found existing installation: gdown 4.7.3\n",
            "    Uninstalling gdown-4.7.3:\n",
            "      Successfully uninstalled gdown-4.7.3\n",
            "Successfully installed gdown-5.1.0\n",
            "Downloading...\n",
            "From: https://drive.google.com/uc?id=1c0ClC8SrPwJq5rrkyMKyPn80nyHcFikK\n",
            "To: /content/survey.txt\n",
            "100% 2.55k/2.55k [00:00<00:00, 9.56MB/s]\n"
          ]
        }
      ],
      "source": [
        "!pip install --upgrade gdown\n",
        "!gdown 1c0ClC8SrPwJq5rrkyMKyPn80nyHcFikK"
      ]
    },
    {
      "cell_type": "markdown",
      "metadata": {
        "id": "C4CLdP1i6fwo"
      },
      "source": [
        "Loading the data -\n",
        "\n",
        "- For this we will use the `.loadtxt() function`\n",
        "- We provide file name along with the dtype of data that we want to load.\n",
        "- Documentation: https://numpy.org/doc/stable/reference/generated/numpy.loadtxt.html"
      ]
    },
    {
      "cell_type": "code",
      "source": [
        "score = np.loadtxt('survey.txt', dtype ='int')"
      ],
      "metadata": {
        "id": "-Zmkqe0lbWUH"
      },
      "execution_count": null,
      "outputs": []
    },
    {
      "cell_type": "markdown",
      "source": [
        "Let's check the type of this data variable `score` -\n",
        "\n"
      ],
      "metadata": {
        "id": "MZart05rbwqm"
      }
    },
    {
      "cell_type": "code",
      "source": [
        "type(score)"
      ],
      "metadata": {
        "colab": {
          "base_uri": "https://localhost:8080/"
        },
        "id": "6LuN57IyF33Q",
        "outputId": "73b138f8-2ee5-496e-da54-5f2d5cc7c0db"
      },
      "execution_count": null,
      "outputs": [
        {
          "output_type": "execute_result",
          "data": {
            "text/plain": [
              "numpy.ndarray"
            ]
          },
          "metadata": {},
          "execution_count": 45
        }
      ]
    },
    {
      "cell_type": "markdown",
      "source": [
        "Let's see what the data looks like -"
      ],
      "metadata": {
        "id": "pCzWYtkYb4Eg"
      }
    },
    {
      "cell_type": "code",
      "source": [
        "score[:5]"
      ],
      "metadata": {
        "id": "bXJjL5_gb7yB",
        "colab": {
          "base_uri": "https://localhost:8080/"
        },
        "outputId": "ec2da7c9-d10d-4136-a267-a4dbd54f505b"
      },
      "execution_count": null,
      "outputs": [
        {
          "output_type": "execute_result",
          "data": {
            "text/plain": [
              "array([ 7, 10,  5,  9,  9])"
            ]
          },
          "metadata": {},
          "execution_count": 46
        }
      ]
    },
    {
      "cell_type": "markdown",
      "metadata": {
        "id": "RQovIbYV6fwq"
      },
      "source": [
        "Let's check the number of responses -"
      ]
    },
    {
      "cell_type": "code",
      "execution_count": null,
      "metadata": {
        "id": "jfAZbig16fwr",
        "colab": {
          "base_uri": "https://localhost:8080/"
        },
        "outputId": "83959435-f882-404a-ef1a-3d2757795c7d"
      },
      "outputs": [
        {
          "output_type": "execute_result",
          "data": {
            "text/plain": [
              "(1167,)"
            ]
          },
          "metadata": {},
          "execution_count": 47
        }
      ],
      "source": [
        "score.shape"
      ]
    },
    {
      "cell_type": "markdown",
      "source": [
        "There are a total of 1167 responses for the LTR survey.\n",
        "\n",
        "\\\n",
        "Now, let's calculate NPS using these response.\n",
        "\n",
        "**NPS = % Promoters - % Detractors**\n",
        "\n",
        "In order to calculate NPS, we need to calculate two things:\n",
        "- % Promoters\n",
        "- % Detractors\n",
        "\n",
        "In order to calculate `% Promoters` and `% Detractors`, we need to get the count of promoter as well as detractor.\n",
        "\n",
        "\\\n",
        "**Question:** How can we get the count of Promoter/Detractor ?\n",
        "\n",
        "- We can do so by using fancy indexing (masking)."
      ],
      "metadata": {
        "id": "WmciNX2UcCX6"
      }
    },
    {
      "cell_type": "markdown",
      "source": [
        "Let's get the count of promoter and detractors -"
      ],
      "metadata": {
        "id": "ieWZUkYZ-nNr"
      }
    },
    {
      "cell_type": "markdown",
      "source": [
        "Detractors have a `score <= 6`"
      ],
      "metadata": {
        "id": "4jMEpvTN-qUd"
      }
    },
    {
      "cell_type": "code",
      "source": [
        "detractors = score[score <= 6]"
      ],
      "metadata": {
        "id": "JWHyJLwK-_7T"
      },
      "execution_count": null,
      "outputs": []
    },
    {
      "cell_type": "code",
      "source": [
        "# Number of detractors -\n",
        "\n",
        "num_detractors = len(detractors)\n",
        "num_detractors"
      ],
      "metadata": {
        "id": "o0bcojgpKMFc",
        "colab": {
          "base_uri": "https://localhost:8080/"
        },
        "outputId": "b258637c-de64-423d-cdd0-d36fec1ca542"
      },
      "execution_count": null,
      "outputs": [
        {
          "output_type": "execute_result",
          "data": {
            "text/plain": [
              "332"
            ]
          },
          "metadata": {},
          "execution_count": 49
        }
      ]
    },
    {
      "cell_type": "markdown",
      "source": [
        "Promoters have a `score >= 9`"
      ],
      "metadata": {
        "id": "tl23JWHZ_ttt"
      }
    },
    {
      "cell_type": "code",
      "source": [
        "promoters = score[score >= 9]"
      ],
      "metadata": {
        "id": "_QtDzHAG_1xZ"
      },
      "execution_count": null,
      "outputs": []
    },
    {
      "cell_type": "code",
      "source": [
        "# Number of promoters -\n",
        "\n",
        "num_promoters = len(promoters)\n",
        "num_promoters"
      ],
      "metadata": {
        "id": "YAmlP48LKdWU",
        "colab": {
          "base_uri": "https://localhost:8080/"
        },
        "outputId": "9c4e0e99-2260-4f1a-ed54-6c64d0a5ead5"
      },
      "execution_count": null,
      "outputs": [
        {
          "output_type": "execute_result",
          "data": {
            "text/plain": [
              "609"
            ]
          },
          "metadata": {},
          "execution_count": 51
        }
      ]
    },
    {
      "cell_type": "code",
      "source": [
        "total = len(score)\n",
        "total"
      ],
      "metadata": {
        "id": "6HFHJ0pe_lfb",
        "colab": {
          "base_uri": "https://localhost:8080/"
        },
        "outputId": "af9f6e66-636a-44ae-e47d-8607f8692914"
      },
      "execution_count": null,
      "outputs": [
        {
          "output_type": "execute_result",
          "data": {
            "text/plain": [
              "1167"
            ]
          },
          "metadata": {},
          "execution_count": 52
        }
      ]
    },
    {
      "cell_type": "code",
      "source": [
        "# % of detractors -\n",
        "\n",
        "percentage_detractors = (num_detractors/total) * 100\n",
        "percentage_detractors"
      ],
      "metadata": {
        "id": "GJriHK6-fwHo",
        "colab": {
          "base_uri": "https://localhost:8080/"
        },
        "outputId": "3c36c233-85b8-4b8f-d91f-0a7a8e206c6b"
      },
      "execution_count": null,
      "outputs": [
        {
          "output_type": "execute_result",
          "data": {
            "text/plain": [
              "28.449014567266495"
            ]
          },
          "metadata": {},
          "execution_count": 53
        }
      ]
    },
    {
      "cell_type": "code",
      "source": [
        "# % of promoters -\n",
        "\n",
        "percentage_promoters = (num_promoters/total) * 100\n",
        "percentage_promoters"
      ],
      "metadata": {
        "id": "sH9ltDmBfoAv",
        "colab": {
          "base_uri": "https://localhost:8080/"
        },
        "outputId": "6cc92c00-8664-4ac9-8eb1-694f7f2e7ea8"
      },
      "execution_count": null,
      "outputs": [
        {
          "output_type": "execute_result",
          "data": {
            "text/plain": [
              "52.185089974293064"
            ]
          },
          "metadata": {},
          "execution_count": 54
        }
      ]
    },
    {
      "cell_type": "code",
      "source": [
        "nps = percentage_promoters - percentage_detractors\n",
        "nps"
      ],
      "metadata": {
        "id": "tx0smoTDAU3d",
        "colab": {
          "base_uri": "https://localhost:8080/"
        },
        "outputId": "617bd0db-5e07-486b-d2da-d6d797304516"
      },
      "execution_count": null,
      "outputs": [
        {
          "output_type": "execute_result",
          "data": {
            "text/plain": [
              "23.73607540702657"
            ]
          },
          "metadata": {},
          "execution_count": 55
        }
      ]
    },
    {
      "cell_type": "code",
      "source": [
        "# Rounding off upto 2 decimal places -\n",
        "\n",
        "np.round(nps, 2)"
      ],
      "metadata": {
        "id": "FHZffeYvAU3d",
        "colab": {
          "base_uri": "https://localhost:8080/"
        },
        "outputId": "f9df1a1a-e544-45a4-e5fb-a87b838f5907"
      },
      "execution_count": null,
      "outputs": [
        {
          "output_type": "execute_result",
          "data": {
            "text/plain": [
              "23.74"
            ]
          },
          "metadata": {},
          "execution_count": 56
        }
      ]
    },
    {
      "cell_type": "markdown",
      "source": [
        "---"
      ],
      "metadata": {
        "id": "_C2rXOPSuuiI"
      }
    },
    {
      "cell_type": "code",
      "source": [],
      "metadata": {
        "id": "JV-td7zOl1zu"
      },
      "execution_count": null,
      "outputs": []
    }
  ]
}